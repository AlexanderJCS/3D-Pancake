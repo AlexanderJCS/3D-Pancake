{
 "cells": [
  {
   "metadata": {},
   "cell_type": "markdown",
   "source": [
    "# Optimize c_s\n",
    "\n",
    "This notebook will test the accuracy as a function c_s. The paper calls for c_s to be 0.67, but in my experience, that value is too high."
   ],
   "id": "c2efce43b42eedb3"
  },
  {
   "cell_type": "code",
   "id": "initial_id",
   "metadata": {
    "collapsed": true,
    "ExecuteTime": {
     "end_time": "2024-06-20T16:46:19.121211Z",
     "start_time": "2024-06-20T16:46:19.116741Z"
    }
   },
   "source": [
    "from test import accuracy\n",
    "import numpy as np\n",
    "import csv\n",
    "import matplotlib.pyplot as plt"
   ],
   "outputs": [],
   "execution_count": 4
  },
  {
   "metadata": {
    "ExecuteTime": {
     "end_time": "2024-06-20T16:46:19.337082Z",
     "start_time": "2024-06-20T16:46:19.331840Z"
    }
   },
   "cell_type": "code",
   "source": [
    "def accuracy_vs_cs():\n",
    "    c_s_values = []\n",
    "    abs_accuracy_values = []\n",
    "    rel_accuracy_values = []\n",
    "\n",
    "    with open(\"../data/test/areas.csv\", \"r\") as f:\n",
    "        ground_truths = list(csv.DictReader(f))\n",
    "\n",
    "    for c_s in np.linspace(0.2, 0.7, 15, endpoint=True):\n",
    "        print(f\"Processing c_s = {c_s}\")\n",
    "        c_s_values.append(c_s)\n",
    "        alg_output = accuracy.algorithm_output(c_s)\n",
    "        alg_output_sum, ground_truth_sum, abs_diff, sum_time, table_rows = accuracy.summary_stats(alg_output, ground_truths, \"amira\")\n",
    "        abs_accuracy_values.append(abs_diff)\n",
    "        rel_accuracy_values.append(alg_output_sum - ground_truth_sum)\n",
    "\n",
    "    return c_s_values, abs_accuracy_values, rel_accuracy_values"
   ],
   "id": "a79378936dc763fe",
   "outputs": [],
   "execution_count": 5
  },
  {
   "metadata": {
    "ExecuteTime": {
     "start_time": "2024-06-20T16:46:19.855960Z"
    }
   },
   "cell_type": "code",
   "source": "cs_values, abs_accuracy, rel_accuracy = accuracy_vs_cs()",
   "id": "57bfb31b708e2f42",
   "outputs": [
    {
     "name": "stdout",
     "output_type": "stream",
     "text": [
      "Processing c_s = 0.2\n",
      "Processing file 1/10: 10as065n5.npy\n",
      "Processing file 2/10: 10as071n3.npy\n",
      "Processing file 3/10: 10as086n4.npy\n",
      "Processing file 4/10: 10as100n1.npy\n"
     ]
    }
   ],
   "execution_count": null
  },
  {
   "metadata": {},
   "cell_type": "code",
   "source": [
    "# Plot absolute and relative error as a function of c_s\n",
    "\n",
    "fig, ax1 = plt.subplots()\n",
    "\n",
    "ax1.set_xlabel(\"c_s\")\n",
    "ax1.set_ylabel(\"Absolute Error (μm²)\", color=\"tab:blue\")\n",
    "ax1.plot(cs_values, abs_accuracy, color=\"tab:blue\")\n",
    "ax1.tick_params(axis=\"y\", labelcolor=\"tab:blue\")\n",
    "\n",
    "ax2 = ax1.twinx()\n",
    "ax2.set_ylabel(\"Relative Error (μm²)\", color=\"tab:red\")\n",
    "ax2.plot(cs_values, rel_accuracy, color=\"tab:red\")\n",
    "ax2.tick_params(axis=\"y\", labelcolor=\"tab:red\")"
   ],
   "id": "cca75e4beed293be",
   "outputs": [],
   "execution_count": null
  },
  {
   "metadata": {},
   "cell_type": "code",
   "outputs": [],
   "execution_count": null,
   "source": "",
   "id": "b37be2e0f112b6e7"
  }
 ],
 "metadata": {
  "kernelspec": {
   "display_name": "Python 3",
   "language": "python",
   "name": "python3"
  },
  "language_info": {
   "codemirror_mode": {
    "name": "ipython",
    "version": 2
   },
   "file_extension": ".py",
   "mimetype": "text/x-python",
   "name": "python",
   "nbconvert_exporter": "python",
   "pygments_lexer": "ipython2",
   "version": "2.7.6"
  }
 },
 "nbformat": 4,
 "nbformat_minor": 5
}
