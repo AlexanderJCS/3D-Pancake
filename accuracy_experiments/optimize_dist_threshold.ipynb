{
 "cells": [
  {
   "metadata": {},
   "cell_type": "markdown",
   "source": [
    "# Distance Threshold Optimization\n",
    "\n",
    "This notebook aims to optimize the distance threshold of the clipping step. Vertices are clipped when they are `dist_threshold` away from a given vertex. This notebook is very similar to the euclidian error optimization one."
   ],
   "id": "fb6aa43fa4acfaa7"
  },
  {
   "cell_type": "code",
   "id": "initial_id",
   "metadata": {
    "collapsed": true,
    "ExecuteTime": {
     "end_time": "2024-06-20T18:17:07.647112Z",
     "start_time": "2024-06-20T18:17:07.643647Z"
    }
   },
   "source": [
    "from test import accuracy\n",
    "\n",
    "import numpy as np\n",
    "import csv\n",
    "import matplotlib.pyplot as plt"
   ],
   "execution_count": 14,
   "outputs": []
  },
  {
   "metadata": {
    "ExecuteTime": {
     "end_time": "2024-06-20T18:17:18.829184Z",
     "start_time": "2024-06-20T18:17:18.823939Z"
    }
   },
   "cell_type": "code",
   "source": [
    "def accuracy_vs_dist_threshold(min_threshold, max_threshold, num_to_test: int, c_s=0.67, downsample=False):\n",
    "    threshold_values = []\n",
    "    abs_accuracy_values = []\n",
    "    rel_accuracy_values = []\n",
    "\n",
    "    with open(\"../data/test/areas.csv\", \"r\") as f:\n",
    "        ground_truths = list(csv.DictReader(f))\n",
    "\n",
    "    for threshold in np.linspace(min_threshold, max_threshold, num_to_test, endpoint=True):\n",
    "        print(f\"Processing threshold = {threshold} nm\")\n",
    "        threshold_values.append(threshold)\n",
    "        alg_output = accuracy.algorithm_output(c_s=c_s, downsample=downsample, dist_threshold=threshold)\n",
    "        alg_output_sum, ground_truth_sum, abs_diff, sum_time, table_rows = accuracy.summary_stats(alg_output, ground_truths, \"amira\")\n",
    "        abs_accuracy_values.append(abs_diff)\n",
    "        rel_accuracy_values.append(alg_output_sum - ground_truth_sum)\n",
    "\n",
    "    return threshold_values, abs_accuracy_values, rel_accuracy_values"
   ],
   "id": "c76e7c5118af8448",
   "execution_count": 18,
   "outputs": []
  },
  {
   "metadata": {
    "ExecuteTime": {
     "end_time": "2024-06-20T18:17:19.013976Z",
     "start_time": "2024-06-20T18:17:19.009188Z"
    }
   },
   "cell_type": "code",
   "source": [
    "def process_and_plot(min_threshold, max_threshold, num_to_test: int, c_s=0.67, downsample=False):\n",
    "    threshold_values, abs_accuracy, rel_accuracy = accuracy_vs_dist_threshold(min_threshold, max_threshold, num_to_test, c_s, downsample)\n",
    "    fig, ax1 = plt.subplots()\n",
    "\n",
    "    ax1.set_xlabel(\"Distance Threshold (nm)\")\n",
    "    ax1.set_ylabel(\"Absolute Error (μm²)\", color=\"tab:blue\")\n",
    "    ax1.plot(threshold_values, abs_accuracy, color=\"tab:blue\")\n",
    "    ax1.tick_params(axis=\"y\", labelcolor=\"tab:blue\")\n",
    "\n",
    "    ax2 = ax1.twinx()\n",
    "    ax2.set_ylabel(\"Relative Error (μm²)\", color=\"tab:red\")\n",
    "    ax2.plot(threshold_values, rel_accuracy, color=\"tab:red\")\n",
    "    ax2.tick_params(axis=\"y\", labelcolor=\"tab:red\")"
   ],
   "id": "877c1a45058292e2",
   "execution_count": 19,
   "outputs": []
  },
  {
   "metadata": {
    "ExecuteTime": {
     "end_time": "2024-06-20T18:19:00.321356Z",
     "start_time": "2024-06-20T18:17:19.271838Z"
    }
   },
   "cell_type": "code",
   "source": "process_and_plot(0, 100, 10, 0.2, False)",
   "id": "e966f7dd6a5f99a6",
   "execution_count": 20,
   "outputs": []
  },
  {
   "metadata": {},
   "cell_type": "code",
   "execution_count": null,
   "source": "",
   "id": "768f9fdd2a9fe9f9",
   "outputs": []
  }
 ],
 "metadata": {
  "kernelspec": {
   "display_name": "Python 3",
   "language": "python",
   "name": "python3"
  },
  "language_info": {
   "codemirror_mode": {
    "name": "ipython",
    "version": 2
   },
   "file_extension": ".py",
   "mimetype": "text/x-python",
   "name": "python",
   "nbconvert_exporter": "python",
   "pygments_lexer": "ipython2",
   "version": "2.7.6"
  }
 },
 "nbformat": 4,
 "nbformat_minor": 5
}
