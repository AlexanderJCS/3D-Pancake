{
 "cells": [
  {
   "metadata": {},
   "cell_type": "markdown",
   "source": [
    "# Distance Threshold Optimization\n",
    "\n",
    "This notebook aims to optimize the distance threshold of the clipping step. Vertices are clipped when they are `dist_threshold` away from a given vertex. This notebook is very similar to the euclidian error optimization one."
   ],
   "id": "fb6aa43fa4acfaa7"
  },
  {
   "cell_type": "code",
   "id": "initial_id",
   "metadata": {
    "collapsed": true,
    "ExecuteTime": {
     "end_time": "2024-06-20T18:17:07.647112Z",
     "start_time": "2024-06-20T18:17:07.643647Z"
    }
   },
   "source": [
    "from test import accuracy\n",
    "\n",
    "import numpy as np\n",
    "import csv\n",
    "import matplotlib.pyplot as plt"
   ],
   "outputs": [],
   "execution_count": 14
  },
  {
   "metadata": {
    "ExecuteTime": {
     "end_time": "2024-06-20T18:17:18.829184Z",
     "start_time": "2024-06-20T18:17:18.823939Z"
    }
   },
   "cell_type": "code",
   "source": [
    "def accuracy_vs_dist_threshold(min_threshold, max_threshold, num_to_test: int, c_s=0.67, downsample=False):\n",
    "    threshold_values = []\n",
    "    abs_accuracy_values = []\n",
    "    rel_accuracy_values = []\n",
    "\n",
    "    with open(\"../data/test/areas.csv\", \"r\") as f:\n",
    "        ground_truths = list(csv.DictReader(f))\n",
    "\n",
    "    for threshold in np.linspace(min_threshold, max_threshold, num_to_test, endpoint=True):\n",
    "        print(f\"Processing threshold = {threshold} nm\")\n",
    "        threshold_values.append(threshold)\n",
    "        alg_output = accuracy.algorithm_output(c_s=c_s, downsample=downsample, dist_threshold=threshold)\n",
    "        alg_output_sum, ground_truth_sum, abs_diff, sum_time, table_rows = accuracy.summary_stats(alg_output, ground_truths, \"amira\")\n",
    "        abs_accuracy_values.append(abs_diff)\n",
    "        rel_accuracy_values.append(alg_output_sum - ground_truth_sum)\n",
    "\n",
    "    return threshold_values, abs_accuracy_values, rel_accuracy_values"
   ],
   "id": "c76e7c5118af8448",
   "outputs": [],
   "execution_count": 18
  },
  {
   "metadata": {
    "ExecuteTime": {
     "end_time": "2024-06-20T18:17:19.013976Z",
     "start_time": "2024-06-20T18:17:19.009188Z"
    }
   },
   "cell_type": "code",
   "source": [
    "def process_and_plot(min_threshold, max_threshold, num_to_test: int, c_s=0.67, downsample=False):\n",
    "    threshold_values, abs_accuracy, rel_accuracy = accuracy_vs_dist_threshold(min_threshold, max_threshold, num_to_test, c_s, downsample)\n",
    "    fig, ax1 = plt.subplots()\n",
    "\n",
    "    ax1.set_xlabel(\"Distance Threshold (nm)\")\n",
    "    ax1.set_ylabel(\"Absolute Error (μm²)\", color=\"tab:blue\")\n",
    "    ax1.plot(threshold_values, abs_accuracy, color=\"tab:blue\")\n",
    "    ax1.tick_params(axis=\"y\", labelcolor=\"tab:blue\")\n",
    "\n",
    "    ax2 = ax1.twinx()\n",
    "    ax2.set_ylabel(\"Relative Error (μm²)\", color=\"tab:red\")\n",
    "    ax2.plot(threshold_values, rel_accuracy, color=\"tab:red\")\n",
    "    ax2.tick_params(axis=\"y\", labelcolor=\"tab:red\")"
   ],
   "id": "877c1a45058292e2",
   "outputs": [],
   "execution_count": 19
  },
  {
   "metadata": {
    "ExecuteTime": {
     "end_time": "2024-06-20T18:19:00.321356Z",
     "start_time": "2024-06-20T18:17:19.271838Z"
    }
   },
   "cell_type": "code",
   "source": "process_and_plot(0, 100, 10, 0.2, False)",
   "id": "e966f7dd6a5f99a6",
   "outputs": [
    {
     "name": "stdout",
     "output_type": "stream",
     "text": [
      "Processing threshold = 0.0 nm\n",
      "Processing threshold = 11.11111111111111 nm\n"
     ]
    },
    {
     "ename": "KeyboardInterrupt",
     "evalue": "",
     "output_type": "error",
     "traceback": [
      "\u001B[1;31m---------------------------------------------------------------------------\u001B[0m",
      "\u001B[1;31mKeyboardInterrupt\u001B[0m                         Traceback (most recent call last)",
      "Cell \u001B[1;32mIn[20], line 1\u001B[0m\n\u001B[1;32m----> 1\u001B[0m \u001B[43mprocess_and_plot\u001B[49m\u001B[43m(\u001B[49m\u001B[38;5;241;43m0\u001B[39;49m\u001B[43m,\u001B[49m\u001B[43m \u001B[49m\u001B[38;5;241;43m100\u001B[39;49m\u001B[43m,\u001B[49m\u001B[43m \u001B[49m\u001B[38;5;241;43m10\u001B[39;49m\u001B[43m,\u001B[49m\u001B[43m \u001B[49m\u001B[38;5;241;43m0.2\u001B[39;49m\u001B[43m,\u001B[49m\u001B[43m \u001B[49m\u001B[38;5;28;43;01mFalse\u001B[39;49;00m\u001B[43m)\u001B[49m\n",
      "Cell \u001B[1;32mIn[19], line 2\u001B[0m, in \u001B[0;36mprocess_and_plot\u001B[1;34m(min_threshold, max_threshold, num_to_test, c_s, downsample)\u001B[0m\n\u001B[0;32m      1\u001B[0m \u001B[38;5;28;01mdef\u001B[39;00m \u001B[38;5;21mprocess_and_plot\u001B[39m(min_threshold, max_threshold, num_to_test: \u001B[38;5;28mint\u001B[39m, c_s\u001B[38;5;241m=\u001B[39m\u001B[38;5;241m0.67\u001B[39m, downsample\u001B[38;5;241m=\u001B[39m\u001B[38;5;28;01mFalse\u001B[39;00m):\n\u001B[1;32m----> 2\u001B[0m     threshold_values, abs_accuracy, rel_accuracy \u001B[38;5;241m=\u001B[39m \u001B[43maccuracy_vs_dist_threshold\u001B[49m\u001B[43m(\u001B[49m\u001B[43mmin_threshold\u001B[49m\u001B[43m,\u001B[49m\u001B[43m \u001B[49m\u001B[43mmax_threshold\u001B[49m\u001B[43m,\u001B[49m\u001B[43m \u001B[49m\u001B[43mnum_to_test\u001B[49m\u001B[43m,\u001B[49m\u001B[43m \u001B[49m\u001B[43mc_s\u001B[49m\u001B[43m,\u001B[49m\u001B[43m \u001B[49m\u001B[43mdownsample\u001B[49m\u001B[43m)\u001B[49m\n\u001B[0;32m      3\u001B[0m     fig, ax1 \u001B[38;5;241m=\u001B[39m plt\u001B[38;5;241m.\u001B[39msubplots()\n\u001B[0;32m      5\u001B[0m     ax1\u001B[38;5;241m.\u001B[39mset_xlabel(\u001B[38;5;124m\"\u001B[39m\u001B[38;5;124mDistance Threshold (nm)\u001B[39m\u001B[38;5;124m\"\u001B[39m)\n",
      "Cell \u001B[1;32mIn[18], line 12\u001B[0m, in \u001B[0;36maccuracy_vs_dist_threshold\u001B[1;34m(min_threshold, max_threshold, num_to_test, c_s, downsample)\u001B[0m\n\u001B[0;32m     10\u001B[0m \u001B[38;5;28mprint\u001B[39m(\u001B[38;5;124mf\u001B[39m\u001B[38;5;124m\"\u001B[39m\u001B[38;5;124mProcessing threshold = \u001B[39m\u001B[38;5;132;01m{\u001B[39;00mthreshold\u001B[38;5;132;01m}\u001B[39;00m\u001B[38;5;124m nm\u001B[39m\u001B[38;5;124m\"\u001B[39m)\n\u001B[0;32m     11\u001B[0m threshold_values\u001B[38;5;241m.\u001B[39mappend(threshold)\n\u001B[1;32m---> 12\u001B[0m alg_output \u001B[38;5;241m=\u001B[39m \u001B[43maccuracy\u001B[49m\u001B[38;5;241;43m.\u001B[39;49m\u001B[43malgorithm_output\u001B[49m\u001B[43m(\u001B[49m\u001B[43mc_s\u001B[49m\u001B[38;5;241;43m=\u001B[39;49m\u001B[43mc_s\u001B[49m\u001B[43m,\u001B[49m\u001B[43m \u001B[49m\u001B[43mdownsample\u001B[49m\u001B[38;5;241;43m=\u001B[39;49m\u001B[43mdownsample\u001B[49m\u001B[43m,\u001B[49m\u001B[43m \u001B[49m\u001B[43mdist_threshold\u001B[49m\u001B[38;5;241;43m=\u001B[39;49m\u001B[43mthreshold\u001B[49m\u001B[43m)\u001B[49m\n\u001B[0;32m     13\u001B[0m alg_output_sum, ground_truth_sum, abs_diff, sum_time, table_rows \u001B[38;5;241m=\u001B[39m accuracy\u001B[38;5;241m.\u001B[39msummary_stats(alg_output, ground_truths, \u001B[38;5;124m\"\u001B[39m\u001B[38;5;124mamira\u001B[39m\u001B[38;5;124m\"\u001B[39m)\n\u001B[0;32m     14\u001B[0m abs_accuracy_values\u001B[38;5;241m.\u001B[39mappend(abs_diff)\n",
      "File \u001B[1;32m~\\AppData\\Local\\ORS\\Dragonfly2024.1\\pythonUserExtensions\\Plugins\\Pancake3D_eae430b521c411efa291f83441a96bd5\\test\\accuracy.py:37\u001B[0m, in \u001B[0;36malgorithm_output\u001B[1;34m(c_s, dist_threshold, downsample, verbose)\u001B[0m\n\u001B[0;32m     34\u001B[0m     \u001B[38;5;28mprint\u001B[39m(\u001B[38;5;124mf\u001B[39m\u001B[38;5;124m\"\u001B[39m\u001B[38;5;124mProcessing file \u001B[39m\u001B[38;5;132;01m{\u001B[39;00mi\u001B[38;5;250m \u001B[39m\u001B[38;5;241m+\u001B[39m\u001B[38;5;250m \u001B[39m\u001B[38;5;241m1\u001B[39m\u001B[38;5;132;01m}\u001B[39;00m\u001B[38;5;124m/\u001B[39m\u001B[38;5;132;01m{\u001B[39;00m\u001B[38;5;28mlen\u001B[39m(files)\u001B[38;5;132;01m}\u001B[39;00m\u001B[38;5;124m: \u001B[39m\u001B[38;5;132;01m{\u001B[39;00mfile\u001B[38;5;132;01m}\u001B[39;00m\u001B[38;5;124m\"\u001B[39m)\n\u001B[0;32m     36\u001B[0m start \u001B[38;5;241m=\u001B[39m time\u001B[38;5;241m.\u001B[39mtime()\n\u001B[1;32m---> 37\u001B[0m algorithm_area \u001B[38;5;241m=\u001B[39m \u001B[43mprocessing\u001B[49m\u001B[38;5;241;43m.\u001B[39;49m\u001B[43mget_area\u001B[49m\u001B[43m(\u001B[49m\n\u001B[0;32m     38\u001B[0m \u001B[43m    \u001B[49m\u001B[43mnp\u001B[49m\u001B[38;5;241;43m.\u001B[39;49m\u001B[43mload\u001B[49m\u001B[43m(\u001B[49m\u001B[38;5;124;43mf\u001B[39;49m\u001B[38;5;124;43m\"\u001B[39;49m\u001B[38;5;124;43m../data/test/\u001B[39;49m\u001B[38;5;132;43;01m{\u001B[39;49;00m\u001B[43mfile\u001B[49m\u001B[38;5;132;43;01m}\u001B[39;49;00m\u001B[38;5;124;43m\"\u001B[39;49m\u001B[43m)\u001B[49m\u001B[43m,\u001B[49m\n\u001B[0;32m     39\u001B[0m \u001B[43m    \u001B[49m\u001B[43mmeta\u001B[49m\u001B[38;5;241;43m.\u001B[39;49m\u001B[43mScale\u001B[49m\u001B[43m(\u001B[49m\u001B[38;5;241;43m5.03\u001B[39;49m\u001B[43m,\u001B[49m\u001B[43m \u001B[49m\u001B[38;5;241;43m42.017\u001B[39;49m\u001B[43m)\u001B[49m\u001B[43m,\u001B[49m\n\u001B[0;32m     40\u001B[0m \u001B[43m    \u001B[49m\u001B[43mc_s\u001B[49m\u001B[38;5;241;43m=\u001B[39;49m\u001B[43mc_s\u001B[49m\u001B[43m,\u001B[49m\n\u001B[0;32m     41\u001B[0m \u001B[43m    \u001B[49m\u001B[43mdist_threshold\u001B[49m\u001B[38;5;241;43m=\u001B[39;49m\u001B[43mdist_threshold\u001B[49m\u001B[43m,\u001B[49m\n\u001B[0;32m     42\u001B[0m \u001B[43m    \u001B[49m\u001B[43mdownsample\u001B[49m\u001B[38;5;241;43m=\u001B[39;49m\u001B[43mdownsample\u001B[49m\u001B[43m,\u001B[49m\n\u001B[0;32m     43\u001B[0m \u001B[43m    \u001B[49m\u001B[43mvisualize\u001B[49m\u001B[38;5;241;43m=\u001B[39;49m\u001B[38;5;28;43;01mFalse\u001B[39;49;00m\u001B[43m,\u001B[49m\n\u001B[0;32m     44\u001B[0m \u001B[43m    \u001B[49m\u001B[43mvisualize_end\u001B[49m\u001B[38;5;241;43m=\u001B[39;49m\u001B[38;5;28;43;01mFalse\u001B[39;49;00m\n\u001B[0;32m     45\u001B[0m \u001B[43m\u001B[49m\u001B[43m)\u001B[49m\u001B[38;5;241m.\u001B[39marea_nm \u001B[38;5;241m/\u001B[39m \u001B[38;5;241m1e6\u001B[39m\n\u001B[0;32m     46\u001B[0m end \u001B[38;5;241m=\u001B[39m time\u001B[38;5;241m.\u001B[39mtime()\n\u001B[0;32m     48\u001B[0m algorithm_output_dict[file] \u001B[38;5;241m=\u001B[39m {\u001B[38;5;124m\"\u001B[39m\u001B[38;5;124marea\u001B[39m\u001B[38;5;124m\"\u001B[39m: algorithm_area, \u001B[38;5;124m\"\u001B[39m\u001B[38;5;124mtime\u001B[39m\u001B[38;5;124m\"\u001B[39m: end \u001B[38;5;241m-\u001B[39m start}\n",
      "File \u001B[1;32m~\\AppData\\Local\\ORS\\Dragonfly2024.1\\pythonUserExtensions\\Plugins\\Pancake3D_eae430b521c411efa291f83441a96bd5\\processing\\processing.py:64\u001B[0m, in \u001B[0;36mget_area\u001B[1;34m(raw_data, scale, visualize, c_s, downsample, visualize_end, dist_threshold)\u001B[0m\n\u001B[0;32m     58\u001B[0m     visual\u001B[38;5;241m.\u001B[39mvis_3d(\n\u001B[0;32m     59\u001B[0m         formatted, scale, \u001B[38;5;124m\"\u001B[39m\u001B[38;5;124mStep B: OBB\u001B[39m\u001B[38;5;124m\"\u001B[39m,\n\u001B[0;32m     60\u001B[0m         obb\u001B[38;5;241m=\u001B[39mobb\n\u001B[0;32m     61\u001B[0m     )\n\u001B[0;32m     63\u001B[0m \u001B[38;5;66;03m# Step C: distance map\u001B[39;00m\n\u001B[1;32m---> 64\u001B[0m distance_map \u001B[38;5;241m=\u001B[39m \u001B[43mdist\u001B[49m\u001B[38;5;241;43m.\u001B[39;49m\u001B[43mgen_dist_map\u001B[49m\u001B[43m(\u001B[49m\u001B[43mformatted\u001B[49m\u001B[43m,\u001B[49m\u001B[43m \u001B[49m\u001B[43mscale\u001B[49m\u001B[43m,\u001B[49m\u001B[43m \u001B[49m\u001B[43mdownsample\u001B[49m\u001B[43m)\u001B[49m\n\u001B[0;32m     65\u001B[0m blurred \u001B[38;5;241m=\u001B[39m dist\u001B[38;5;241m.\u001B[39mblur(distance_map, c_s, scale)\n\u001B[0;32m     67\u001B[0m \u001B[38;5;28;01mif\u001B[39;00m visualize:\n",
      "File \u001B[1;32m~\\AppData\\Local\\ORS\\Dragonfly2024.1\\pythonUserExtensions\\Plugins\\Pancake3D_eae430b521c411efa291f83441a96bd5\\processing\\dist.py:11\u001B[0m, in \u001B[0;36mgen_dist_map\u001B[1;34m(data, scale, downsample)\u001B[0m\n\u001B[0;32m      7\u001B[0m \u001B[38;5;28;01mdef\u001B[39;00m \u001B[38;5;21mgen_dist_map\u001B[39m(data: np\u001B[38;5;241m.\u001B[39mndarray, scale: meta\u001B[38;5;241m.\u001B[39mScale, downsample: \u001B[38;5;28mbool\u001B[39m) \u001B[38;5;241m-\u001B[39m\u001B[38;5;241m>\u001B[39m np\u001B[38;5;241m.\u001B[39mndarray:\n\u001B[0;32m      8\u001B[0m     \u001B[38;5;66;03m# add padding around data to prevent edges not counting as 0\u001B[39;00m\n\u001B[0;32m      9\u001B[0m     data \u001B[38;5;241m=\u001B[39m np\u001B[38;5;241m.\u001B[39mpad(data, \u001B[38;5;241m1\u001B[39m, mode\u001B[38;5;241m=\u001B[39m\u001B[38;5;124m\"\u001B[39m\u001B[38;5;124mconstant\u001B[39m\u001B[38;5;124m\"\u001B[39m)\n\u001B[1;32m---> 11\u001B[0m     dist_map_positives \u001B[38;5;241m=\u001B[39m \u001B[43mndimage\u001B[49m\u001B[38;5;241;43m.\u001B[39;49m\u001B[43mdistance_transform_edt\u001B[49m\u001B[43m(\u001B[49m\n\u001B[0;32m     12\u001B[0m \u001B[43m        \u001B[49m\u001B[43mdata\u001B[49m\u001B[43m,\u001B[49m\u001B[43m \u001B[49m\u001B[43msampling\u001B[49m\u001B[38;5;241;43m=\u001B[39;49m\u001B[43mscale\u001B[49m\u001B[38;5;241;43m.\u001B[39;49m\u001B[43mzyx\u001B[49m\u001B[43m(\u001B[49m\u001B[43m)\u001B[49m\u001B[43m \u001B[49m\u001B[38;5;28;43;01mif\u001B[39;49;00m\u001B[43m \u001B[49m\u001B[38;5;129;43;01mnot\u001B[39;49;00m\u001B[43m \u001B[49m\u001B[43mdownsample\u001B[49m\u001B[43m \u001B[49m\u001B[38;5;28;43;01melse\u001B[39;49;00m\u001B[43m \u001B[49m\u001B[38;5;28;43;01mNone\u001B[39;49;00m\n\u001B[0;32m     13\u001B[0m \u001B[43m    \u001B[49m\u001B[43m)\u001B[49m\n\u001B[0;32m     15\u001B[0m     dist_map_negatives \u001B[38;5;241m=\u001B[39m ndimage\u001B[38;5;241m.\u001B[39mdistance_transform_edt(\n\u001B[0;32m     16\u001B[0m         \u001B[38;5;241m~\u001B[39mdata, sampling\u001B[38;5;241m=\u001B[39mscale\u001B[38;5;241m.\u001B[39mzyx() \u001B[38;5;28;01mif\u001B[39;00m \u001B[38;5;129;01mnot\u001B[39;00m downsample \u001B[38;5;28;01melse\u001B[39;00m \u001B[38;5;28;01mNone\u001B[39;00m \u001B[38;5;66;03m# ~data is bitwise NOT, flipping booleans\u001B[39;00m\n\u001B[0;32m     17\u001B[0m     )\n\u001B[0;32m     19\u001B[0m     \u001B[38;5;66;03m# remove padding from the distance maps\u001B[39;00m\n",
      "File \u001B[1;32m~\\AppData\\Local\\ORS\\Dragonfly2024.1\\pythonUserExtensions\\Plugins\\Pancake3D_eae430b521c411efa291f83441a96bd5\\.venv\\Lib\\site-packages\\scipy\\ndimage\\_morphology.py:2488\u001B[0m, in \u001B[0;36mdistance_transform_edt\u001B[1;34m(input, sampling, return_distances, return_indices, distances, indices)\u001B[0m\n\u001B[0;32m   2486\u001B[0m         numpy\u001B[38;5;241m.\u001B[39msqrt(dt, distances)\n\u001B[0;32m   2487\u001B[0m     \u001B[38;5;28;01melse\u001B[39;00m:\n\u001B[1;32m-> 2488\u001B[0m         dt \u001B[38;5;241m=\u001B[39m \u001B[43mnumpy\u001B[49m\u001B[38;5;241;43m.\u001B[39;49m\u001B[43madd\u001B[49m\u001B[38;5;241;43m.\u001B[39;49m\u001B[43mreduce\u001B[49m\u001B[43m(\u001B[49m\u001B[43mdt\u001B[49m\u001B[43m,\u001B[49m\u001B[43m \u001B[49m\u001B[43maxis\u001B[49m\u001B[38;5;241;43m=\u001B[39;49m\u001B[38;5;241;43m0\u001B[39;49m\u001B[43m)\u001B[49m\n\u001B[0;32m   2489\u001B[0m         dt \u001B[38;5;241m=\u001B[39m numpy\u001B[38;5;241m.\u001B[39msqrt(dt)\n\u001B[0;32m   2491\u001B[0m \u001B[38;5;66;03m# construct and return the result\u001B[39;00m\n",
      "\u001B[1;31mKeyboardInterrupt\u001B[0m: "
     ]
    }
   ],
   "execution_count": 20
  },
  {
   "metadata": {},
   "cell_type": "code",
   "outputs": [],
   "execution_count": null,
   "source": "",
   "id": "768f9fdd2a9fe9f9"
  }
 ],
 "metadata": {
  "kernelspec": {
   "display_name": "Python 3",
   "language": "python",
   "name": "python3"
  },
  "language_info": {
   "codemirror_mode": {
    "name": "ipython",
    "version": 2
   },
   "file_extension": ".py",
   "mimetype": "text/x-python",
   "name": "python",
   "nbconvert_exporter": "python",
   "pygments_lexer": "ipython2",
   "version": "2.7.6"
  }
 },
 "nbformat": 4,
 "nbformat_minor": 5
}
