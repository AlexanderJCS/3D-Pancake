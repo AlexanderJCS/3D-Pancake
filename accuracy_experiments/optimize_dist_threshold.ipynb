{
 "cells": [
  {
   "metadata": {},
   "cell_type": "markdown",
   "source": [
    "# Distance Threshold Optimization\n",
    "\n",
    "This notebook aims to optimize the distance threshold of the clipping step. Vertices are clipped when they are `dist_threshold` away from a given vertex. This notebook is very similar to the euclidian error optimization one."
   ],
   "id": "fb6aa43fa4acfaa7"
  },
  {
   "cell_type": "code",
   "id": "initial_id",
   "metadata": {
    "collapsed": true,
    "ExecuteTime": {
     "end_time": "2024-06-17T17:52:31.704054Z",
     "start_time": "2024-06-17T17:52:31.697885Z"
    }
   },
   "source": [
    "from test import accuracy\n",
    "import numpy as np\n",
    "import csv\n",
    "import matplotlib.pyplot as plt"
   ],
   "outputs": [],
   "execution_count": 7
  },
  {
   "metadata": {
    "ExecuteTime": {
     "end_time": "2024-06-17T17:52:31.741206Z",
     "start_time": "2024-06-17T17:52:31.735329Z"
    }
   },
   "cell_type": "code",
   "source": [
    "def accuracy_vs_dist_threshold():\n",
    "    threshold_values = []\n",
    "    abs_accuracy_values = []\n",
    "    rel_accuracy_values = []\n",
    "\n",
    "    with open(\"../data/test/areas.csv\", \"r\") as f:\n",
    "        ground_truths = list(csv.DictReader(f))\n",
    "\n",
    "    for threshold in np.arange(0, 100, 1):\n",
    "        print(f\"Processing threshold = {threshold} nm\")\n",
    "        threshold_values.append(threshold)\n",
    "        alg_output = accuracy.algorithm_output(threshold)\n",
    "        alg_output_sum, ground_truth_sum, abs_diff, sum_time, table_rows = accuracy.summary_stats(alg_output, ground_truths, \"amira\")\n",
    "        abs_accuracy_values.append(abs_diff)\n",
    "        rel_accuracy_values.append(alg_output_sum - ground_truth_sum)\n",
    "\n",
    "    return threshold_values, abs_accuracy_values, rel_accuracy_values"
   ],
   "id": "c76e7c5118af8448",
   "outputs": [],
   "execution_count": 8
  },
  {
   "metadata": {
    "jupyter": {
     "is_executing": true
    },
    "ExecuteTime": {
     "start_time": "2024-06-17T17:52:31.756831Z"
    }
   },
   "cell_type": "code",
   "source": "threshold_values, abs_accuracy, rel_accuracy = accuracy_vs_dist_threshold()",
   "id": "877c1a45058292e2",
   "outputs": [
    {
     "name": "stdout",
     "output_type": "stream",
     "text": [
      "Processing threshold = 0 nm\n",
      "Processing threshold = 1 nm\n",
      "Processing threshold = 2 nm\n",
      "Processing threshold = 3 nm\n"
     ]
    }
   ],
   "execution_count": null
  },
  {
   "metadata": {
    "jupyter": {
     "is_executing": true
    }
   },
   "cell_type": "code",
   "source": [
    "# Plot absolute and relative error as a function of c_s\n",
    "\n",
    "fig, ax1 = plt.subplots()\n",
    "\n",
    "ax1.set_xlabel(\"c_s\")\n",
    "ax1.set_ylabel(\"Absolute Error (μm²)\", color=\"tab:blue\")\n",
    "ax1.plot(threshold_values, abs_accuracy, color=\"tab:blue\")\n",
    "ax1.tick_params(axis=\"y\", labelcolor=\"tab:blue\")\n",
    "\n",
    "ax2 = ax1.twinx()\n",
    "ax2.set_ylabel(\"Relative Error (μm²)\", color=\"tab:red\")\n",
    "ax2.plot(threshold_values, rel_accuracy, color=\"tab:red\")\n",
    "ax2.tick_params(axis=\"y\", labelcolor=\"tab:red\")"
   ],
   "id": "595acb909f92af92",
   "outputs": [],
   "execution_count": null
  }
 ],
 "metadata": {
  "kernelspec": {
   "display_name": "Python 3",
   "language": "python",
   "name": "python3"
  },
  "language_info": {
   "codemirror_mode": {
    "name": "ipython",
    "version": 2
   },
   "file_extension": ".py",
   "mimetype": "text/x-python",
   "name": "python",
   "nbconvert_exporter": "python",
   "pygments_lexer": "ipython2",
   "version": "2.7.6"
  }
 },
 "nbformat": 4,
 "nbformat_minor": 5
}
